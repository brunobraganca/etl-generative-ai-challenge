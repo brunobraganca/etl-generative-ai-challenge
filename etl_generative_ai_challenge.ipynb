{
  "nbformat": 4,
  "nbformat_minor": 0,
  "metadata": {
    "colab": {
      "provenance": [],
      "include_colab_link": true
    },
    "kernelspec": {
      "name": "python3",
      "display_name": "Python 3"
    },
    "language_info": {
      "name": "python"
    }
  },
  "cells": [
    {
      "cell_type": "markdown",
      "metadata": {
        "id": "view-in-github",
        "colab_type": "text"
      },
      "source": [
        "<a href=\"https://colab.research.google.com/github/brunobraganca/etl-generative-ai-challenge/blob/main/etl_generative_ai_challenge.ipynb\" target=\"_parent\"><img src=\"https://colab.research.google.com/assets/colab-badge.svg\" alt=\"Open In Colab\"/></a>"
      ]
    },
    {
      "cell_type": "markdown",
      "source": [
        "## etl-generative-ai-challenge"
      ],
      "metadata": {
        "id": "BPJQsTCULaC-"
      }
    },
    {
      "cell_type": "markdown",
      "source": [
        "# **etl-generative-ai-challenge**\n",
        "Python based challenge involving ETL pipeline with generative AI based on [SantanderDevWeek2023](https://github.com/digitalinnovationone/santander-dev-week-2023-api)\n",
        "\n",
        "## Fantasy Context\n",
        "A modern soccer courts venue called \"Futebas\" is currently working on new and technologic ways to engage with its costumers.\n",
        "\n",
        "## Problem\n",
        "Numbers of court reservations and income are falling. Marketing has decided to reach each and every costumer to get them back to the venue. According to \"Futebas\" guidelines, costumer approach should always focus on a friendly and mostly personal/custom form of communication.\n",
        "\n",
        "## Proposition\n",
        "Using Futebas CRM data, Python and OpenAi API, generate a customized SMS text as a call-to-action to reacquire the costumers."
      ],
      "metadata": {
        "id": "k5fA5OrXt1a3"
      }
    },
    {
      "cell_type": "markdown",
      "source": [
        "# **Git Setup**\n"
      ],
      "metadata": {
        "id": "Ve5urIQOQq0G"
      }
    },
    {
      "cell_type": "code",
      "source": [
        "!git config --global user.name \"USER\"\n",
        "!git config --global user.email \"EMAIL\"\n",
        "!git config --global user.password \"PASSWORD\""
      ],
      "metadata": {
        "id": "YefWfYBoZMN2"
      },
      "execution_count": 100,
      "outputs": []
    },
    {
      "cell_type": "code",
      "source": [
        "# Attention! Personal access token, not SSH\n",
        "token = \"TOKEN\"\n",
        "username = \"USER\"\n",
        "repo = \"REPO\""
      ],
      "metadata": {
        "id": "2czsgQvrMum-"
      },
      "execution_count": 107,
      "outputs": []
    },
    {
      "cell_type": "code",
      "source": [
        "!git clone https://{token}@github.com/{username}/{repo}"
      ],
      "metadata": {
        "colab": {
          "base_uri": "https://localhost:8080/"
        },
        "id": "BHisYD1wOW4x",
        "outputId": "c8ffef06-ab7f-41ed-ee17-42dcca6b021d"
      },
      "execution_count": 102,
      "outputs": [
        {
          "output_type": "stream",
          "name": "stdout",
          "text": [
            "Cloning into 'etl-generative-ai-challenge'...\n",
            "remote: Enumerating objects: 21, done.\u001b[K\n",
            "remote: Counting objects: 100% (21/21), done.\u001b[K\n",
            "remote: Compressing objects: 100% (18/18), done.\u001b[K\n",
            "remote: Total 21 (delta 7), reused 0 (delta 0), pack-reused 0\u001b[K\n",
            "Receiving objects: 100% (21/21), 8.89 KiB | 8.89 MiB/s, done.\n",
            "Resolving deltas: 100% (7/7), done.\n"
          ]
        }
      ]
    },
    {
      "cell_type": "code",
      "source": [
        "%cd {repo}"
      ],
      "metadata": {
        "colab": {
          "base_uri": "https://localhost:8080/"
        },
        "id": "i3Wm3TDdO9h3",
        "outputId": "49ecb4bf-0e97-4561-ac40-a56e359f0828"
      },
      "execution_count": 103,
      "outputs": [
        {
          "output_type": "stream",
          "name": "stdout",
          "text": [
            "/content/etl-generative-ai-challenge\n"
          ]
        }
      ]
    },
    {
      "cell_type": "code",
      "source": [
        "%ls"
      ],
      "metadata": {
        "colab": {
          "base_uri": "https://localhost:8080/"
        },
        "id": "g3MNVjZCPA66",
        "outputId": "3a63e0ed-0b5a-4366-ff4b-ec59060159d0"
      },
      "execution_count": 105,
      "outputs": [
        {
          "output_type": "stream",
          "name": "stdout",
          "text": [
            "etl_generative_ai_challenge.ipynb  futebasCRM.csv      README.md\n",
            "futebas_CRM.csv                    FutebasCrmData.csv\n"
          ]
        }
      ]
    },
    {
      "cell_type": "markdown",
      "source": [
        "## **E**xtract\n",
        "\n",
        "Extract users list."
      ],
      "metadata": {
        "id": "9dfI-o7gLRq9"
      }
    },
    {
      "cell_type": "code",
      "execution_count": 115,
      "metadata": {
        "id": "NYydpX_GLRCB",
        "colab": {
          "base_uri": "https://localhost:8080/"
        },
        "outputId": "99e8afee-903a-497f-904a-de267c1d544f"
      },
      "outputs": [
        {
          "output_type": "stream",
          "name": "stdout",
          "text": [
            "      name  age     gender position         team   visited\n",
            "0   Fabita   43   Feminino  Goleiro       Santos   3 meses\n",
            "1  Rodrigo   18  Masculino   Ataque  Corinthians  10 meses\n",
            "2   Flavio   59  Masculino   Defesa    São Paulo   15 dias\n",
            "3  Daniela   35   Feminino   Ataque    Palmeiras   6 meses\n",
            "4  Juliana   25   Feminino   Defesa  Corinthians   2 meses\n",
            "5    Marco   39  Masculino  Goleiro  Corinthians   5 meses\n"
          ]
        }
      ],
      "source": [
        "import pandas as pd\n",
        "\n",
        "crm_csv = pd.read_csv('/content/etl-generative-ai-challenge/futebasCRM.csv')\n",
        "print(crm_csv)"
      ]
    },
    {
      "cell_type": "code",
      "source": [
        "import json\n",
        "import io\n",
        "\n",
        "usersString = crm_csv.to_json(orient='records')\n",
        "users = json.loads(usersString)\n",
        "\n",
        "print(users)"
      ],
      "metadata": {
        "id": "F5XOuCZGSTGw",
        "colab": {
          "base_uri": "https://localhost:8080/"
        },
        "outputId": "4c4818cd-63fa-43bc-eedd-f2c747aff61d"
      },
      "execution_count": 77,
      "outputs": [
        {
          "output_type": "stream",
          "name": "stdout",
          "text": [
            "[{'name': 'Fabita', 'age': 43, 'gender': 'Feminino', 'position': 'Goleiro', 'team': 'Santos', 'visited': '3 meses'}, {'name': 'Rodrigo', 'age': 18, 'gender': 'Masculino', 'position': 'Ataque', 'team': 'Corinthians', 'visited': '10 meses'}, {'name': 'Flavio', 'age': 59, 'gender': 'Masculino', 'position': 'Defesa', 'team': 'São Paulo', 'visited': '15 dias'}, {'name': 'Daniela', 'age': 35, 'gender': 'Feminino', 'position': 'Ataque', 'team': 'Palmeiras', 'visited': '6 meses'}, {'name': 'Juliana', 'age': 25, 'gender': 'Feminino', 'position': 'Defesa', 'team': 'Corinthians', 'visited': '2 meses'}, {'name': 'Marco', 'age': 39, 'gender': 'Masculino', 'position': 'Goleiro', 'team': 'Corinthians', 'visited': '5 meses'}]\n"
          ]
        }
      ]
    },
    {
      "cell_type": "markdown",
      "source": [
        "## **T**ransform\n",
        "\n",
        "Transform user data throught OpenAI GPT-4 data to generate new SMS message."
      ],
      "metadata": {
        "id": "cWoqInB4TF1x"
      }
    },
    {
      "cell_type": "code",
      "source": [
        "!pip install openai"
      ],
      "metadata": {
        "id": "O--PCAObTQkK",
        "colab": {
          "base_uri": "https://localhost:8080/"
        },
        "outputId": "da92550e-1284-490e-cc48-374824b229c3"
      },
      "execution_count": 38,
      "outputs": [
        {
          "output_type": "stream",
          "name": "stdout",
          "text": [
            "Collecting openai\n",
            "  Downloading openai-0.27.9-py3-none-any.whl (75 kB)\n",
            "\u001b[?25l     \u001b[90m━━━━━━━━━━━━━━━━━━━━━━━━━━━━━━━━━━━━━━━━\u001b[0m \u001b[32m0.0/75.5 kB\u001b[0m \u001b[31m?\u001b[0m eta \u001b[36m-:--:--\u001b[0m\r\u001b[2K     \u001b[90m━━━━━━━━━━━━━━━━━━━━━━━━━━━━━━━━━━━━━━━━\u001b[0m \u001b[32m75.5/75.5 kB\u001b[0m \u001b[31m2.1 MB/s\u001b[0m eta \u001b[36m0:00:00\u001b[0m\n",
            "\u001b[?25hRequirement already satisfied: requests>=2.20 in /usr/local/lib/python3.10/dist-packages (from openai) (2.31.0)\n",
            "Requirement already satisfied: tqdm in /usr/local/lib/python3.10/dist-packages (from openai) (4.66.1)\n",
            "Requirement already satisfied: aiohttp in /usr/local/lib/python3.10/dist-packages (from openai) (3.8.5)\n",
            "Requirement already satisfied: charset-normalizer<4,>=2 in /usr/local/lib/python3.10/dist-packages (from requests>=2.20->openai) (3.2.0)\n",
            "Requirement already satisfied: idna<4,>=2.5 in /usr/local/lib/python3.10/dist-packages (from requests>=2.20->openai) (3.4)\n",
            "Requirement already satisfied: urllib3<3,>=1.21.1 in /usr/local/lib/python3.10/dist-packages (from requests>=2.20->openai) (2.0.4)\n",
            "Requirement already satisfied: certifi>=2017.4.17 in /usr/local/lib/python3.10/dist-packages (from requests>=2.20->openai) (2023.7.22)\n",
            "Requirement already satisfied: attrs>=17.3.0 in /usr/local/lib/python3.10/dist-packages (from aiohttp->openai) (23.1.0)\n",
            "Requirement already satisfied: multidict<7.0,>=4.5 in /usr/local/lib/python3.10/dist-packages (from aiohttp->openai) (6.0.4)\n",
            "Requirement already satisfied: async-timeout<5.0,>=4.0.0a3 in /usr/local/lib/python3.10/dist-packages (from aiohttp->openai) (4.0.3)\n",
            "Requirement already satisfied: yarl<2.0,>=1.0 in /usr/local/lib/python3.10/dist-packages (from aiohttp->openai) (1.9.2)\n",
            "Requirement already satisfied: frozenlist>=1.1.1 in /usr/local/lib/python3.10/dist-packages (from aiohttp->openai) (1.4.0)\n",
            "Requirement already satisfied: aiosignal>=1.1.2 in /usr/local/lib/python3.10/dist-packages (from aiohttp->openai) (1.3.1)\n",
            "Installing collected packages: openai\n",
            "Successfully installed openai-0.27.9\n"
          ]
        }
      ]
    },
    {
      "cell_type": "code",
      "source": [
        "# https://platform.openai.com/account/api-keys\n",
        "\n",
        "openai_api_key = 'TODO'"
      ],
      "metadata": {
        "id": "sUB1doiDTX3y"
      },
      "execution_count": 90,
      "outputs": []
    },
    {
      "cell_type": "code",
      "source": [
        "import openai\n",
        "\n",
        "openai.api_key = openai_api_key\n",
        "\n",
        "def generate_ai_sms(user):\n",
        "\n",
        "  completion = openai.ChatCompletion.create(\n",
        "    model=\"gpt-3.5-turbo-0301\",\n",
        "    messages=[\n",
        "      {\n",
        "          \"role\": \"system\",\n",
        "          \"content\": \"Você é um boleiro profissa!\"\n",
        "      },\n",
        "      {\n",
        "          \"role\": \"user\",\n",
        "          \"content\": f\"Texto de mensagem SMS para a cliente {user['name']}, de {user['age']} anos, gênero {user['gender']}, torcedor(a) do {user['team']} e usuário(a) da quadra de futebol Futebas e que não retorna ao estabelecimento há {user['visited']}. (máximo de 200 caracteres)\"\n",
        "      }\n",
        "    ]\n",
        "  )\n",
        "  return completion.choices[0].message.content.strip('\\\"')\n",
        "\n",
        "for user in users:\n",
        "  msg = generate_ai_sms(user)\n",
        "  print(msg)\n",
        "  user['msg'] = msg"
      ],
      "metadata": {
        "id": "n1w78kNxTrZY",
        "colab": {
          "base_uri": "https://localhost:8080/"
        },
        "outputId": "265dbbdc-b8bc-4b5e-950e-588c6fb8b45b"
      },
      "execution_count": 92,
      "outputs": [
        {
          "output_type": "stream",
          "name": "stdout",
          "text": [
            "Olá Fabita, sentimos sua falta aqui na Futebas! A quadra e seus amigos te aguardam para jogar aquele futebol. Venha aproveitar nossos horários especiais. Santos sempre! 🐳⚽️\n",
            "E aí Rodrigo, tudo bem? Sentimos sua falta aqui na Futebas! Que tal marcar uma partida com os amigos e matar a saudade da nossa quadra? Torcendo pelo Corinthians juntos!\n",
            "Olá Flavio, tudo bem? Sentimos sua falta na Futebas! Esperamos que você esteja bem. Estamos com saudades dos seus jogos de tirar o fôlego. Volte logo! ⚽️👊 São Paulo sempre forte!\n",
            "Olá Daniela! Sentimos sua falta na Futebas! Venha praticar seu futebol novamente e sentir a emoção em jogar em nossa quadra. Seu time e nós estamos esperando 👍🏼⚽. #AvantiPalmeiras.\n",
            "Olá Juliana, notamos sua ausência na Futebas há 2 meses. Gostaríamos de saber se está tudo bem e se podemos ajudar de alguma forma. Esperamos vê-la em breve por aqui. Saudações corinthianas! 🏆⚽👍\n",
            "Olá Marco! Sentimos sua falta aqui na Futebas, como torcedor fiel do Corinthians, sabemos que você é um bom boleiro. Esperamos te ver em breve na quadra para bater uma bola conosco.\n"
          ]
        }
      ]
    },
    {
      "cell_type": "markdown",
      "source": [
        "## **L**oad\n",
        "\n",
        "Update and commit messages into new file."
      ],
      "metadata": {
        "id": "kNuP0SDUZMBY"
      }
    },
    {
      "cell_type": "code",
      "source": [
        "usersJSON = pd.DataFrame(users)\n",
        "usersJSON.to_csv(\"/content/etl-generative-ai-challenge/usersSMS.csv\", index=False)\n"
      ],
      "metadata": {
        "id": "oZvwMUQ0Svuj"
      },
      "execution_count": 124,
      "outputs": []
    },
    {
      "cell_type": "code",
      "source": [
        "!git add --all"
      ],
      "metadata": {
        "id": "LWuPZD60PH4g"
      },
      "execution_count": 128,
      "outputs": []
    },
    {
      "cell_type": "code",
      "source": [
        "!git commit -a -m \"Updated messages\""
      ],
      "metadata": {
        "colab": {
          "base_uri": "https://localhost:8080/"
        },
        "id": "H2KcfwPNTRv0",
        "outputId": "c5aedd78-b9a7-441e-9763-da3adf86790a"
      },
      "execution_count": 129,
      "outputs": [
        {
          "output_type": "stream",
          "name": "stdout",
          "text": [
            "On branch main\n",
            "Your branch is up to date with 'origin/main'.\n",
            "\n",
            "nothing to commit, working tree clean\n"
          ]
        }
      ]
    },
    {
      "cell_type": "code",
      "source": [
        "!git push origin main"
      ],
      "metadata": {
        "colab": {
          "base_uri": "https://localhost:8080/"
        },
        "id": "2NJiQ3cbU_3G",
        "outputId": "15a11f4f-a877-48b8-fe6f-64f0f107072b"
      },
      "execution_count": 130,
      "outputs": [
        {
          "output_type": "stream",
          "name": "stdout",
          "text": [
            "Everything up-to-date\n"
          ]
        }
      ]
    }
  ]
}